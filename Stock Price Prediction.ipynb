{
 "cells": [
  {
   "cell_type": "code",
   "execution_count": 1,
   "id": "4b35041f",
   "metadata": {},
   "outputs": [],
   "source": [
    "# Part 1 - Data Preprocessing\n",
    "\n",
    "# Importing the libraries\n",
    "import numpy as np\n",
    "import matplotlib.pyplot as plt\n",
    "import pandas as pd"
   ]
  },
  {
   "cell_type": "code",
   "execution_count": 20,
   "id": "a7d3dc56",
   "metadata": {},
   "outputs": [
    {
     "name": "stdout",
     "output_type": "stream",
     "text": [
      "[[234.05]\n",
      " [234.55]\n",
      " [240.  ]\n",
      " ...\n",
      " [121.8 ]\n",
      " [120.3 ]\n",
      " [122.1 ]]\n"
     ]
    }
   ],
   "source": [
    "# Importing the training set\n",
    "dataset_train = pd.read_csv('iitglobal.csv')\n",
    "training_set = dataset_train.iloc[:, 1:2].values # represent value of open stock column \n"
   ]
  },
  {
   "cell_type": "code",
   "execution_count": 3,
   "id": "393e5136",
   "metadata": {},
   "outputs": [
    {
     "data": {
      "text/html": [
       "<div>\n",
       "<style scoped>\n",
       "    .dataframe tbody tr th:only-of-type {\n",
       "        vertical-align: middle;\n",
       "    }\n",
       "\n",
       "    .dataframe tbody tr th {\n",
       "        vertical-align: top;\n",
       "    }\n",
       "\n",
       "    .dataframe thead th {\n",
       "        text-align: right;\n",
       "    }\n",
       "</style>\n",
       "<table border=\"1\" class=\"dataframe\">\n",
       "  <thead>\n",
       "    <tr style=\"text-align: right;\">\n",
       "      <th></th>\n",
       "      <th>Date</th>\n",
       "      <th>Open</th>\n",
       "      <th>High</th>\n",
       "      <th>Low</th>\n",
       "      <th>Last</th>\n",
       "      <th>Close</th>\n",
       "      <th>Total Trade Quantity</th>\n",
       "      <th>Turnover (Lacs)</th>\n",
       "    </tr>\n",
       "  </thead>\n",
       "  <tbody>\n",
       "    <tr>\n",
       "      <th>0</th>\n",
       "      <td>2018-09-28</td>\n",
       "      <td>234.05</td>\n",
       "      <td>235.95</td>\n",
       "      <td>230.20</td>\n",
       "      <td>233.50</td>\n",
       "      <td>233.75</td>\n",
       "      <td>3069914</td>\n",
       "      <td>7162.35</td>\n",
       "    </tr>\n",
       "    <tr>\n",
       "      <th>1</th>\n",
       "      <td>2018-09-27</td>\n",
       "      <td>234.55</td>\n",
       "      <td>236.80</td>\n",
       "      <td>231.10</td>\n",
       "      <td>233.80</td>\n",
       "      <td>233.25</td>\n",
       "      <td>5082859</td>\n",
       "      <td>11859.95</td>\n",
       "    </tr>\n",
       "    <tr>\n",
       "      <th>2</th>\n",
       "      <td>2018-09-26</td>\n",
       "      <td>240.00</td>\n",
       "      <td>240.00</td>\n",
       "      <td>232.50</td>\n",
       "      <td>235.00</td>\n",
       "      <td>234.25</td>\n",
       "      <td>2240909</td>\n",
       "      <td>5248.60</td>\n",
       "    </tr>\n",
       "    <tr>\n",
       "      <th>3</th>\n",
       "      <td>2018-09-25</td>\n",
       "      <td>233.30</td>\n",
       "      <td>236.75</td>\n",
       "      <td>232.00</td>\n",
       "      <td>236.25</td>\n",
       "      <td>236.10</td>\n",
       "      <td>2349368</td>\n",
       "      <td>5503.90</td>\n",
       "    </tr>\n",
       "    <tr>\n",
       "      <th>4</th>\n",
       "      <td>2018-09-24</td>\n",
       "      <td>233.55</td>\n",
       "      <td>239.20</td>\n",
       "      <td>230.75</td>\n",
       "      <td>234.00</td>\n",
       "      <td>233.30</td>\n",
       "      <td>3423509</td>\n",
       "      <td>7999.55</td>\n",
       "    </tr>\n",
       "  </tbody>\n",
       "</table>\n",
       "</div>"
      ],
      "text/plain": [
       "         Date    Open    High     Low    Last   Close  Total Trade Quantity  \\\n",
       "0  2018-09-28  234.05  235.95  230.20  233.50  233.75               3069914   \n",
       "1  2018-09-27  234.55  236.80  231.10  233.80  233.25               5082859   \n",
       "2  2018-09-26  240.00  240.00  232.50  235.00  234.25               2240909   \n",
       "3  2018-09-25  233.30  236.75  232.00  236.25  236.10               2349368   \n",
       "4  2018-09-24  233.55  239.20  230.75  234.00  233.30               3423509   \n",
       "\n",
       "   Turnover (Lacs)  \n",
       "0          7162.35  \n",
       "1         11859.95  \n",
       "2          5248.60  \n",
       "3          5503.90  \n",
       "4          7999.55  "
      ]
     },
     "execution_count": 3,
     "metadata": {},
     "output_type": "execute_result"
    }
   ],
   "source": [
    "dataset_train.head()"
   ]
  },
  {
   "cell_type": "code",
   "execution_count": 21,
   "id": "511b4191",
   "metadata": {},
   "outputs": [
    {
     "name": "stdout",
     "output_type": "stream",
     "text": [
      "[[0.6202352 ]\n",
      " [0.62226277]\n",
      " [0.64436334]\n",
      " ...\n",
      " [0.16504461]\n",
      " [0.15896188]\n",
      " [0.16626115]]\n"
     ]
    }
   ],
   "source": [
    "# Feature Scaling --> normalize the values b/w 0 & 1\n",
    "from sklearn.preprocessing import MinMaxScaler\n",
    "sc = MinMaxScaler(feature_range = (0, 1))\n",
    "training_set_scaled = sc.fit_transform(training_set)\n",
    "print(training_set_scaled)"
   ]
  },
  {
   "cell_type": "code",
   "execution_count": 24,
   "id": "56ac4d7a",
   "metadata": {},
   "outputs": [
    {
     "name": "stdout",
     "output_type": "stream",
     "text": [
      "[0.77007299 0.73641525 0.73763179 ... 0.16504461 0.15896188 0.16626115]\n"
     ]
    }
   ],
   "source": [
    "# Creating a data structure with 60 timesteps and 1 output.\n",
    "# split the data b/w x_train and y_train\n",
    "X_train = [] \n",
    "y_train = []\n",
    "for i in range(60, 2035):\n",
    "    X_train.append(training_set_scaled[i-60:i, 0])  # saare columns ke liye krega\n",
    "    y_train.append(training_set_scaled[i, 0]) # same\n",
    "X_train, y_train = np.array(X_train), np.array(y_train)\n",
    "\n",
    "print(X_train) "
   ]
  },
  {
   "cell_type": "code",
   "execution_count": 23,
   "id": "696a9b84",
   "metadata": {},
   "outputs": [
    {
     "name": "stdout",
     "output_type": "stream",
     "text": [
      "[[[0.6202352 ]\n",
      "  [0.62226277]\n",
      "  [0.64436334]\n",
      "  ...\n",
      "  [0.79622871]\n",
      "  [0.81062449]\n",
      "  [0.74371452]]\n",
      "\n",
      " [[0.62226277]\n",
      "  [0.64436334]\n",
      "  [0.61719384]\n",
      "  ...\n",
      "  [0.81062449]\n",
      "  [0.74371452]\n",
      "  [0.77007299]]\n",
      "\n",
      " [[0.64436334]\n",
      "  [0.61719384]\n",
      "  [0.61820762]\n",
      "  ...\n",
      "  [0.74371452]\n",
      "  [0.77007299]\n",
      "  [0.73641525]]\n",
      "\n",
      " ...\n",
      "\n",
      " [[0.19870235]\n",
      "  [0.21796431]\n",
      "  [0.21553122]\n",
      "  ...\n",
      "  [0.14963504]\n",
      "  [0.14801298]\n",
      "  [0.15815085]]\n",
      "\n",
      " [[0.21796431]\n",
      "  [0.21553122]\n",
      "  [0.20600162]\n",
      "  ...\n",
      "  [0.14801298]\n",
      "  [0.15815085]\n",
      "  [0.16504461]]\n",
      "\n",
      " [[0.21553122]\n",
      "  [0.20600162]\n",
      "  [0.21654501]\n",
      "  ...\n",
      "  [0.15815085]\n",
      "  [0.16504461]\n",
      "  [0.15896188]]]\n"
     ]
    }
   ],
   "source": [
    "# Reshaping (bcz we need only open stock column)\n",
    "X_train = np.reshape(X_train, (X_train.shape[0], X_train.shape[1], 1))\n",
    "print(X_train)"
   ]
  },
  {
   "cell_type": "code",
   "execution_count": 7,
   "id": "6341b9bc",
   "metadata": {},
   "outputs": [],
   "source": [
    "# Part 2 - Building the RNN\n",
    "\n",
    "# Importing the Keras libraries and packages\n",
    "from keras.models import Sequential\n",
    "from keras.layers import Dense\n",
    "from keras.layers import LSTM\n",
    "from keras.layers import Dropout"
   ]
  },
  {
   "cell_type": "code",
   "execution_count": 8,
   "id": "e45206fe",
   "metadata": {},
   "outputs": [],
   "source": [
    "# Initialising the RNN\n",
    "regressor = Sequential()\n",
    "\n",
    "# Adding the first LSTM layer and some Dropout regularisation (mix of lstm and dropout)\n",
    "regressor.add(LSTM(units = 50, return_sequences = True, input_shape = (X_train.shape[1], 1)))\n",
    "regressor.add(Dropout(0.2))"
   ]
  },
  {
   "cell_type": "code",
   "execution_count": 9,
   "id": "44356857",
   "metadata": {},
   "outputs": [],
   "source": [
    "# Adding a second LSTM layer and some Dropout regularisation\n",
    "regressor.add(LSTM(units = 50, return_sequences = True))\n",
    "regressor.add(Dropout(0.2))"
   ]
  },
  {
   "cell_type": "code",
   "execution_count": 10,
   "id": "ee28336e",
   "metadata": {},
   "outputs": [],
   "source": [
    "# Adding a third LSTM layer and some Dropout regularisation\n",
    "regressor.add(LSTM(units = 50, return_sequences = True))\n",
    "regressor.add(Dropout(0.2))"
   ]
  },
  {
   "cell_type": "code",
   "execution_count": 11,
   "id": "1557a968",
   "metadata": {},
   "outputs": [],
   "source": [
    "# Adding a fourth LSTM layer and some Dropout regularisation\n",
    "regressor.add(LSTM(units = 50))\n",
    "regressor.add(Dropout(0.2))"
   ]
  },
  {
   "cell_type": "code",
   "execution_count": 12,
   "id": "f5660bc7",
   "metadata": {},
   "outputs": [
    {
     "name": "stdout",
     "output_type": "stream",
     "text": [
      "Epoch 1/100\n",
      "62/62 [==============================] - 14s 87ms/step - loss: 0.0098\n",
      "Epoch 2/100\n",
      "62/62 [==============================] - 6s 90ms/step - loss: 0.0031\n",
      "Epoch 3/100\n",
      "62/62 [==============================] - 6s 89ms/step - loss: 0.0026\n",
      "Epoch 4/100\n",
      "62/62 [==============================] - 6s 91ms/step - loss: 0.0025\n",
      "Epoch 5/100\n",
      "62/62 [==============================] - 6s 94ms/step - loss: 0.0028\n",
      "Epoch 6/100\n",
      "62/62 [==============================] - 6s 92ms/step - loss: 0.0022\n",
      "Epoch 7/100\n",
      "62/62 [==============================] - 6s 99ms/step - loss: 0.0020\n",
      "Epoch 8/100\n",
      "62/62 [==============================] - 6s 96ms/step - loss: 0.0020\n",
      "Epoch 9/100\n",
      "62/62 [==============================] - 7s 117ms/step - loss: 0.0021\n",
      "Epoch 10/100\n",
      "62/62 [==============================] - 8s 125ms/step - loss: 0.0019\n",
      "Epoch 11/100\n",
      "62/62 [==============================] - 7s 110ms/step - loss: 0.0017\n",
      "Epoch 12/100\n",
      "62/62 [==============================] - 7s 113ms/step - loss: 0.0020\n",
      "Epoch 13/100\n",
      "62/62 [==============================] - 6s 94ms/step - loss: 0.0020\n",
      "Epoch 14/100\n",
      "62/62 [==============================] - 6s 92ms/step - loss: 0.0017\n",
      "Epoch 15/100\n",
      "62/62 [==============================] - 6s 94ms/step - loss: 0.0015\n",
      "Epoch 16/100\n",
      "62/62 [==============================] - 6s 93ms/step - loss: 0.0015\n",
      "Epoch 17/100\n",
      "62/62 [==============================] - 6s 92ms/step - loss: 0.0014\n",
      "Epoch 18/100\n",
      "62/62 [==============================] - 6s 92ms/step - loss: 0.0017\n",
      "Epoch 19/100\n",
      "62/62 [==============================] - 6s 93ms/step - loss: 0.0015\n",
      "Epoch 20/100\n",
      "62/62 [==============================] - 6s 96ms/step - loss: 0.0014\n",
      "Epoch 21/100\n",
      "62/62 [==============================] - 6s 93ms/step - loss: 0.0012\n",
      "Epoch 22/100\n",
      "62/62 [==============================] - 6s 95ms/step - loss: 0.0014\n",
      "Epoch 23/100\n",
      "62/62 [==============================] - 6s 92ms/step - loss: 0.0013\n",
      "Epoch 24/100\n",
      "62/62 [==============================] - 6s 92ms/step - loss: 0.0013\n",
      "Epoch 25/100\n",
      "62/62 [==============================] - 6s 93ms/step - loss: 0.0012\n",
      "Epoch 26/100\n",
      "62/62 [==============================] - 6s 92ms/step - loss: 0.0012\n",
      "Epoch 27/100\n",
      "62/62 [==============================] - 6s 94ms/step - loss: 0.0012\n",
      "Epoch 28/100\n",
      "62/62 [==============================] - 5s 87ms/step - loss: 0.0011\n",
      "Epoch 29/100\n",
      "62/62 [==============================] - 6s 97ms/step - loss: 0.0013\n",
      "Epoch 30/100\n",
      "62/62 [==============================] - 5s 87ms/step - loss: 0.0011\n",
      "Epoch 31/100\n",
      "62/62 [==============================] - 5s 88ms/step - loss: 0.0012\n",
      "Epoch 32/100\n",
      "62/62 [==============================] - 5s 88ms/step - loss: 0.0010\n",
      "Epoch 33/100\n",
      "62/62 [==============================] - 5s 88ms/step - loss: 0.0011\n",
      "Epoch 34/100\n",
      "62/62 [==============================] - 5s 87ms/step - loss: 0.0010\n",
      "Epoch 35/100\n",
      "62/62 [==============================] - 5s 87ms/step - loss: 9.5383e-04\n",
      "Epoch 36/100\n",
      "62/62 [==============================] - 5s 88ms/step - loss: 0.0010\n",
      "Epoch 37/100\n",
      "62/62 [==============================] - 6s 89ms/step - loss: 0.0010\n",
      "Epoch 38/100\n",
      "62/62 [==============================] - 5s 88ms/step - loss: 0.0011\n",
      "Epoch 39/100\n",
      "62/62 [==============================] - 5s 89ms/step - loss: 0.0011\n",
      "Epoch 40/100\n",
      "62/62 [==============================] - 6s 92ms/step - loss: 9.1249e-04\n",
      "Epoch 41/100\n",
      "62/62 [==============================] - 6s 95ms/step - loss: 8.8082e-04\n",
      "Epoch 42/100\n",
      "62/62 [==============================] - 6s 98ms/step - loss: 9.1895e-04\n",
      "Epoch 43/100\n",
      "62/62 [==============================] - 6s 95ms/step - loss: 8.4972e-04\n",
      "Epoch 44/100\n",
      "62/62 [==============================] - 6s 95ms/step - loss: 8.9108e-04\n",
      "Epoch 45/100\n",
      "62/62 [==============================] - 6s 94ms/step - loss: 9.7238e-04\n",
      "Epoch 46/100\n",
      "62/62 [==============================] - 6s 93ms/step - loss: 8.6102e-04\n",
      "Epoch 47/100\n",
      "62/62 [==============================] - 6s 93ms/step - loss: 9.0335e-04\n",
      "Epoch 48/100\n",
      "62/62 [==============================] - 6s 95ms/step - loss: 8.0764e-04\n",
      "Epoch 49/100\n",
      "62/62 [==============================] - 6s 97ms/step - loss: 8.1177e-04\n",
      "Epoch 50/100\n",
      "62/62 [==============================] - 6s 95ms/step - loss: 8.6957e-04\n",
      "Epoch 51/100\n",
      "62/62 [==============================] - 6s 98ms/step - loss: 9.0395e-04\n",
      "Epoch 52/100\n",
      "62/62 [==============================] - 6s 94ms/step - loss: 9.4230e-04\n",
      "Epoch 53/100\n",
      "62/62 [==============================] - 6s 93ms/step - loss: 8.6877e-04\n",
      "Epoch 54/100\n",
      "62/62 [==============================] - 6s 99ms/step - loss: 7.9999e-04\n",
      "Epoch 55/100\n",
      "62/62 [==============================] - 6s 97ms/step - loss: 7.7404e-04\n",
      "Epoch 56/100\n",
      "62/62 [==============================] - 6s 92ms/step - loss: 7.5944e-04\n",
      "Epoch 57/100\n",
      "62/62 [==============================] - 6s 99ms/step - loss: 8.5300e-04\n",
      "Epoch 58/100\n",
      "62/62 [==============================] - 6s 96ms/step - loss: 7.4536e-04\n",
      "Epoch 59/100\n",
      "62/62 [==============================] - 6s 97ms/step - loss: 7.8628e-04\n",
      "Epoch 60/100\n",
      "62/62 [==============================] - 6s 98ms/step - loss: 7.5295e-04\n",
      "Epoch 61/100\n",
      "62/62 [==============================] - 6s 97ms/step - loss: 7.9027e-04\n",
      "Epoch 62/100\n",
      "62/62 [==============================] - 6s 94ms/step - loss: 8.6629e-04\n",
      "Epoch 63/100\n",
      "62/62 [==============================] - 6s 102ms/step - loss: 6.5005e-04\n",
      "Epoch 64/100\n",
      "62/62 [==============================] - 6s 97ms/step - loss: 8.8954e-04\n",
      "Epoch 65/100\n",
      "62/62 [==============================] - 6s 96ms/step - loss: 6.8352e-04\n",
      "Epoch 66/100\n",
      "62/62 [==============================] - 6s 98ms/step - loss: 6.7083e-04\n",
      "Epoch 67/100\n",
      "62/62 [==============================] - 6s 103ms/step - loss: 6.7642e-04\n",
      "Epoch 68/100\n",
      "62/62 [==============================] - 6s 101ms/step - loss: 6.4707e-04\n",
      "Epoch 69/100\n",
      "62/62 [==============================] - 6s 93ms/step - loss: 7.5474e-04\n",
      "Epoch 70/100\n",
      "62/62 [==============================] - 6s 94ms/step - loss: 7.8825e-04\n",
      "Epoch 71/100\n",
      "62/62 [==============================] - 6s 100ms/step - loss: 7.3239e-04\n",
      "Epoch 72/100\n",
      "62/62 [==============================] - 6s 101ms/step - loss: 7.6393e-04\n",
      "Epoch 73/100\n",
      "62/62 [==============================] - 6s 97ms/step - loss: 8.7780e-04\n",
      "Epoch 74/100\n",
      "62/62 [==============================] - 6s 89ms/step - loss: 8.0193e-04\n",
      "Epoch 75/100\n",
      "62/62 [==============================] - 5s 88ms/step - loss: 7.2581e-04\n",
      "Epoch 76/100\n",
      "62/62 [==============================] - 5s 88ms/step - loss: 6.6704e-04\n",
      "Epoch 77/100\n",
      "62/62 [==============================] - 5s 88ms/step - loss: 7.1137e-04\n",
      "Epoch 78/100\n",
      "62/62 [==============================] - 6s 89ms/step - loss: 6.3268e-04\n",
      "Epoch 79/100\n",
      "62/62 [==============================] - 5s 88ms/step - loss: 6.0736e-04\n",
      "Epoch 80/100\n",
      "62/62 [==============================] - 6s 97ms/step - loss: 6.8563e-04\n",
      "Epoch 81/100\n",
      "62/62 [==============================] - 6s 94ms/step - loss: 6.2083e-04\n",
      "Epoch 82/100\n",
      "62/62 [==============================] - 6s 94ms/step - loss: 5.8135e-04\n",
      "Epoch 83/100\n",
      "62/62 [==============================] - 6s 94ms/step - loss: 7.1638e-04\n",
      "Epoch 84/100\n",
      "62/62 [==============================] - 6s 96ms/step - loss: 7.0911e-04\n",
      "Epoch 85/100\n",
      "62/62 [==============================] - 6s 93ms/step - loss: 6.5067e-04\n",
      "Epoch 86/100\n",
      "62/62 [==============================] - 7s 109ms/step - loss: 7.1176e-04\n",
      "Epoch 87/100\n",
      "62/62 [==============================] - 6s 93ms/step - loss: 6.5411e-04\n",
      "Epoch 88/100\n",
      "62/62 [==============================] - 6s 89ms/step - loss: 5.9762e-04\n",
      "Epoch 89/100\n",
      "62/62 [==============================] - 6s 89ms/step - loss: 5.9612e-04\n",
      "Epoch 90/100\n",
      "62/62 [==============================] - 5s 88ms/step - loss: 6.1968e-04\n",
      "Epoch 91/100\n",
      "62/62 [==============================] - 6s 89ms/step - loss: 6.5707e-04\n",
      "Epoch 92/100\n",
      "62/62 [==============================] - 5s 88ms/step - loss: 6.3515e-04\n",
      "Epoch 93/100\n",
      "62/62 [==============================] - 5s 88ms/step - loss: 6.1595e-04\n",
      "Epoch 94/100\n",
      "62/62 [==============================] - 5s 88ms/step - loss: 6.9034e-04\n",
      "Epoch 95/100\n",
      "62/62 [==============================] - 5s 89ms/step - loss: 5.5690e-04\n",
      "Epoch 96/100\n",
      "62/62 [==============================] - 6s 89ms/step - loss: 7.4432e-04\n",
      "Epoch 97/100\n",
      "62/62 [==============================] - 5s 87ms/step - loss: 5.4699e-04\n",
      "Epoch 98/100\n"
     ]
    },
    {
     "name": "stdout",
     "output_type": "stream",
     "text": [
      "62/62 [==============================] - 5s 87ms/step - loss: 6.4025e-04\n",
      "Epoch 99/100\n",
      "62/62 [==============================] - 5s 88ms/step - loss: 6.0583e-04\n",
      "Epoch 100/100\n",
      "62/62 [==============================] - 6s 93ms/step - loss: 7.7871e-04\n"
     ]
    },
    {
     "data": {
      "text/plain": [
       "<keras.callbacks.History at 0x24c6c7cd4d0>"
      ]
     },
     "execution_count": 12,
     "metadata": {},
     "output_type": "execute_result"
    }
   ],
   "source": [
    "# Adding the output layer\n",
    "regressor.add(Dense(units = 1))\n",
    "\n",
    "# Compiling the RNN\n",
    "regressor.compile(optimizer = 'adam', loss = 'mean_squared_error') # adam -> optimization algo.\n",
    "# alag alag layers banai hai toh unko jod rhe toh woh optimized rhe isliye hamne adam and mean squared error as loss function\n",
    "\n",
    "# Fitting the RNN to the Training set -> training of model\n",
    "regressor.fit(X_train, y_train, epochs = 100, batch_size = 32)  "
   ]
  },
  {
   "cell_type": "code",
   "execution_count": 13,
   "id": "57194373",
   "metadata": {},
   "outputs": [],
   "source": [
    "# Part 3 - Making the predictions and visualising the results\n",
    "\n",
    "# Getting the real stock price of October 2018\n",
    "dataset_test = pd.read_csv('test.csv')\n",
    "real_stock_price = dataset_test.iloc[:, 1:2].values"
   ]
  },
  {
   "cell_type": "code",
   "execution_count": 16,
   "id": "017be966",
   "metadata": {},
   "outputs": [
    {
     "name": "stdout",
     "output_type": "stream",
     "text": [
      "1/1 [==============================] - 0s 44ms/step\n",
      "[[119.7906 ]\n",
      " [187.26108]\n",
      " [215.78197]\n",
      " [221.01729]\n",
      " [221.22527]\n",
      " [227.0817 ]\n",
      " [229.85126]\n",
      " [226.32985]\n",
      " [223.29332]\n",
      " [215.95006]\n",
      " [213.52377]\n",
      " [213.73672]\n",
      " [209.10123]\n",
      " [212.65668]\n",
      " [218.70195]\n",
      " [224.47551]]\n"
     ]
    },
    {
     "name": "stderr",
     "output_type": "stream",
     "text": [
      "C:\\Users\\parvn\\AppData\\Local\\Temp\\ipykernel_2604\\2335895705.py:3: FutureWarning: The behavior of `series[i:j]` with an integer-dtype index is deprecated. In a future version, this will be treated as *label-based* indexing, consistent with e.g. `series[i]` lookups. To retain the old behavior, use `series.iloc[i:j]`. To get the future behavior, use `series.loc[i:j]`.\n",
      "  inputs = dataset_total[len(dataset_total) - len(dataset_test) - 60:].values\n"
     ]
    }
   ],
   "source": [
    "# Getting the predicted stock price of October 2018\n",
    "dataset_total = pd.concat((dataset_train['Open'], dataset_test['Open']), axis = 0)\n",
    "inputs = dataset_total[len(dataset_total) - len(dataset_test) - 60:].values\n",
    "inputs = inputs.reshape(-1,1)\n",
    "inputs = sc.transform(inputs)\n",
    "X_test = []\n",
    "for i in range(60, 76):\n",
    "    X_test.append(inputs[i-60:i, 0])\n",
    "X_test = np.array(X_test)\n",
    "X_test = np.reshape(X_test, (X_test.shape[0], X_test.shape[1], 1))\n",
    "predicted_stock_price = regressor.predict(X_test)\n",
    "predicted_stock_price = sc.inverse_transform(predicted_stock_price)\n",
    "print(predicted_stock_price)"
   ]
  },
  {
   "cell_type": "code",
   "execution_count": 19,
   "id": "20db70dc",
   "metadata": {},
   "outputs": [
    {
     "name": "stdout",
     "output_type": "stream",
     "text": [
      "[[220.1 ]\n",
      " [221.1 ]\n",
      " [229.45]\n",
      " [230.3 ]\n",
      " [237.7 ]\n",
      " [237.1 ]\n",
      " [229.7 ]\n",
      " [226.25]\n",
      " [215.  ]\n",
      " [215.  ]\n",
      " [215.5 ]\n",
      " [208.  ]\n",
      " [217.  ]\n",
      " [223.5 ]\n",
      " [230.  ]\n",
      " [234.55]]\n"
     ]
    }
   ],
   "source": [
    "print(real_stock_price)"
   ]
  },
  {
   "cell_type": "code",
   "execution_count": 15,
   "id": "cc83dbcf",
   "metadata": {},
   "outputs": [
    {
     "data": {
      "image/png": "[encoded data removed]",
      "text/plain": [
       "<Figure size 640x480 with 1 Axes>"
      ]
     },
     "metadata": {},
     "output_type": "display_data"
    }
   ],
   "source": [
    "# Visualising the results\n",
    "plt.plot(real_stock_price, color = 'red', label = 'Real Stock Price')\n",
    "plt.plot(predicted_stock_price, color = 'blue', label = 'Predicted Stock Price')\n",
    "plt.title('Stock Price Prediction')\n",
    "plt.xlabel('Time')\n",
    "plt.ylabel('Stock Price')\n",
    "plt.legend()\n",
    "plt.show()"
   ]
  },
  {
   "cell_type": "code",
   "execution_count": null,
   "id": "f8616ccf",
   "metadata": {},
   "outputs": [],
   "source": []
  }
 ],
 "metadata": {
  "kernelspec": {
   "display_name": "Python 3 (ipykernel)",
   "language": "python",
   "name": "python3"
  },
  "language_info": {
   "codemirror_mode": {
    "name": "ipython",
    "version": 3
   },
   "file_extension": ".py",
   "mimetype": "text/x-python",
   "name": "python",
   "nbconvert_exporter": "python",
   "pygments_lexer": "ipython3",
   "version": "3.11.1"
  }
 },
 "nbformat": 4,
 "nbformat_minor": 5
}
